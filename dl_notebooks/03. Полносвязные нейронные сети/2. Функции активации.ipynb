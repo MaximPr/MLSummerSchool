{
 "cells": [
  {
   "cell_type": "markdown",
   "metadata": {},
   "source": [
    "# Функции активации"
   ]
  },
  {
   "cell_type": "markdown",
   "metadata": {},
   "source": [
    "## Sigmoid"
   ]
  },
  {
   "cell_type": "markdown",
   "metadata": {},
   "source": [
    "<img src='images/sigmoid.jpeg'>"
   ]
  },
  {
   "cell_type": "markdown",
   "metadata": {},
   "source": [
    "$$ \\sigma(x) = \\frac{1}{1+e^{-x}} $$"
   ]
  },
  {
   "cell_type": "markdown",
   "metadata": {},
   "source": [
    "Проблемы сигмоиды: \n",
    "\n",
    "* очень сильно насыщаются градиенты на ее концах;\n",
    "* выходные значения сигмоиды с дальнейшем прохождением по слоям перестают быть центрированы нулём."
   ]
  },
  {
   "cell_type": "markdown",
   "metadata": {},
   "source": [
    "## Tanh"
   ]
  },
  {
   "cell_type": "markdown",
   "metadata": {},
   "source": [
    "<img src='images/tanh.jpeg'>"
   ]
  },
  {
   "cell_type": "markdown",
   "metadata": {},
   "source": [
    "$$  tanh(x) = 2\\sigma(2x) − 1 $$"
   ]
  },
  {
   "cell_type": "markdown",
   "metadata": {},
   "source": [
    "Градиенты тоже насыщаются по краям, но из-за переноса значений на отрезок $[-1, 1]$ с прохождением по слоям значения активаций остаются центрированы в нуле. \n",
    "\n",
    "Поэтому в выборе \"сигмода или гиперболический тангенс\" однозначно побеждает последний."
   ]
  },
  {
   "cell_type": "markdown",
   "metadata": {},
   "source": [
    "## ReLU"
   ]
  },
  {
   "cell_type": "markdown",
   "metadata": {},
   "source": [
    "<img src='images/relu.jpeg'>"
   ]
  },
  {
   "cell_type": "markdown",
   "metadata": {},
   "source": [
    "$$ relu(x) = max(0; x) $$ "
   ]
  },
  {
   "cell_type": "markdown",
   "metadata": {},
   "source": [
    "Плюсы и минусы использования ReLU:\n",
    "\n",
    "* __(+)__ В процессе обучения функция потерь сходится очень быстро из-за линейной, ненасыщаемой формы ReLU.\n",
    "* __(+)__ Очень легко вычислима, нет дорогостоящих операций вроде нахождения экспоненты.\n",
    "* __(-)__ Нейроны могут \"умереть\" :(. Из-за большого значения градиента в процессе backprop может случиться так, что нейрон никогда не активируется снова на любом из примеров выборки."
   ]
  },
  {
   "cell_type": "markdown",
   "metadata": {},
   "source": [
    "## Leaky ReLU"
   ]
  },
  {
   "cell_type": "markdown",
   "metadata": {},
   "source": [
    "<img src='images/leaky_relu.jpeg'>"
   ]
  },
  {
   "cell_type": "markdown",
   "metadata": {},
   "source": [
    "$$ leaky\\_relu(x) = \\mathbb{1}(x < 0)(\\alpha x) + \\mathbb{1}(x \\ge 0)(x) $$\n",
    "\n",
    "где $\\alpha \\space -$ некоторая малая константа, например, 0.01."
   ]
  },
  {
   "cell_type": "markdown",
   "metadata": {},
   "source": [
    "Попытка устранить проблему \"мертвых\" нейронов. Есть и модификации, например, вынесение значения $\\alpha$ в параметр нейрона, чтобы тот также подстраивался к лучшему значению в процессе обучения."
   ]
  },
  {
   "cell_type": "markdown",
   "metadata": {},
   "source": [
    "Так или иначе, результаты такого улучшения строго не доказаны и не консистентны от задачи к задаче."
   ]
  },
  {
   "cell_type": "markdown",
   "metadata": {},
   "source": [
    "## ELU и SoftPlus"
   ]
  },
  {
   "cell_type": "markdown",
   "metadata": {},
   "source": [
    "### ELU"
   ]
  },
  {
   "cell_type": "markdown",
   "metadata": {},
   "source": [
    "<img src='images/elu.png'>"
   ]
  },
  {
   "cell_type": "markdown",
   "metadata": {},
   "source": [
    "$$ y = \\mathbb{1}(x < 0)(\\alpha(e^x - 1)) + \\mathbb{1}(x \\ge 0)(x)$$"
   ]
  },
  {
   "cell_type": "markdown",
   "metadata": {},
   "source": [
    "Результаты [немного лучше, чем у ReLU](http://image-net.org/challenges/posters/JKU_EN_RGB_Schwarz_poster.pdf)."
   ]
  },
  {
   "cell_type": "markdown",
   "metadata": {},
   "source": [
    "### SoftPlus"
   ]
  },
  {
   "cell_type": "markdown",
   "metadata": {},
   "source": [
    "<img src='images/softplus.png'>"
   ]
  },
  {
   "cell_type": "markdown",
   "metadata": {},
   "source": [
    "$$ softplus(x) = \\ln(e^x + 1) $$"
   ]
  },
  {
   "cell_type": "markdown",
   "metadata": {},
   "source": [
    "### Использовать или нет?"
   ]
  },
  {
   "cell_type": "markdown",
   "metadata": {},
   "source": [
    "В Deep Learning Book [указано](https://stats.stackexchange.com/a/286358), что, опять же, не всегда и не подтверждено. "
   ]
  },
  {
   "cell_type": "markdown",
   "metadata": {},
   "source": [
    "## SELU"
   ]
  },
  {
   "cell_type": "markdown",
   "metadata": {},
   "source": [
    "<img src='images/selu.png' width='60%'>"
   ]
  },
  {
   "cell_type": "markdown",
   "metadata": {},
   "source": [
    "$$ selu(x) = \\lambda(\\space \\mathbb{1}(x \\le 0)(\\alpha e^x - \\alpha) \\space + \\space \\mathbb{1}(x > 0)(x) ) $$"
   ]
  },
  {
   "cell_type": "markdown",
   "metadata": {},
   "source": [
    "$$ \\lambda = 1.0507009873554804934193349852946 $$\n",
    "$$ \\alpha = 1.6732632423543772848170429916717 $$"
   ]
  },
  {
   "cell_type": "markdown",
   "metadata": {},
   "source": [
    "По сути имеем дело с немного измененной версией ELU с той лишь разницей, что добавлен множитель $\\lambda$ в начале и подстроено значение $\\alpha$."
   ]
  },
  {
   "cell_type": "markdown",
   "metadata": {},
   "source": [
    "Говорят, что и быстрее сходится, и точнее получается все. Время покажет :)"
   ]
  },
  {
   "cell_type": "markdown",
   "metadata": {},
   "source": [
    "## Softmax"
   ]
  },
  {
   "cell_type": "markdown",
   "metadata": {},
   "source": [
    "$$ \\sigma(z)_i = \\frac{e^{z_i}}{\\sum_{k=1}^K e^{z_k}} $$"
   ]
  },
  {
   "cell_type": "code",
   "execution_count": 1,
   "metadata": {},
   "outputs": [],
   "source": [
    "import numpy as np"
   ]
  },
  {
   "cell_type": "code",
   "execution_count": 2,
   "metadata": {},
   "outputs": [],
   "source": [
    "import matplotlib.pyplot as plt\n",
    "%matplotlib inline"
   ]
  },
  {
   "cell_type": "code",
   "execution_count": 3,
   "metadata": {},
   "outputs": [],
   "source": [
    "def softmax(a):\n",
    "    return np.exp(a) / np.sum(np.exp(a))"
   ]
  },
  {
   "cell_type": "code",
   "execution_count": 4,
   "metadata": {},
   "outputs": [
    {
     "data": {
      "image/png": "[encoded data removed]",
      "text/plain": [
       "<Figure size 432x288 with 2 Axes>"
      ]
     },
     "metadata": {},
     "output_type": "display_data"
    }
   ],
   "source": [
    "a = np.array([0.2, 0.2, 1.1, 0.3, 0.06])\n",
    "s = softmax(a)\n",
    "\n",
    "plt.subplot(121)\n",
    "plt.bar(range(len(a)), a)\n",
    "plt.title('Сумма: {}'.format(np.sum(a)))\n",
    "plt.subplot(122)\n",
    "plt.bar(range(len(s)), s)\n",
    "plt.title('Сумма: {}'.format(np.sum(s)))\n",
    "plt.show()"
   ]
  },
  {
   "cell_type": "code",
   "execution_count": 5,
   "metadata": {},
   "outputs": [
    {
     "data": {
      "image/png": "[encoded data removed]",
      "text/plain": [
       "<Figure size 432x288 with 2 Axes>"
      ]
     },
     "metadata": {},
     "output_type": "display_data"
    }
   ],
   "source": [
    "a = np.array([1, 2, 1, 3, 1])\n",
    "s = softmax(a)\n",
    "\n",
    "plt.subplot(121)\n",
    "plt.bar(range(len(a)), a)\n",
    "plt.title('Сумма: {}'.format(np.sum(a)))\n",
    "plt.subplot(122)\n",
    "plt.bar(range(len(s)), s)\n",
    "plt.title('Сумма: {}'.format(np.sum(s)))\n",
    "plt.show()"
   ]
  },
  {
   "cell_type": "code",
   "execution_count": null,
   "metadata": {},
   "outputs": [],
   "source": []
  }
 ],
 "metadata": {
  "kernelspec": {
   "display_name": "Python 3",
   "language": "python",
   "name": "python3"
  },
  "language_info": {
   "codemirror_mode": {
    "name": "ipython",
    "version": 3
   },
   "file_extension": ".py",
   "mimetype": "text/x-python",
   "name": "python",
   "nbconvert_exporter": "python",
   "pygments_lexer": "ipython3",
   "version": "3.6.3"
  },
  "toc": {
   "colors": {
    "hover_highlight": "#DAA520",
    "running_highlight": "#FF0000",
    "selected_highlight": "#FFD700"
   },
   "moveMenuLeft": true,
   "nav_menu": {
    "height": "192px",
    "width": "252px"
   },
   "navigate_menu": true,
   "number_sections": true,
   "sideBar": true,
   "threshold": 4,
   "toc_cell": false,
   "toc_section_display": "block",
   "toc_window_display": false
  }
 },
 "nbformat": 4,
 "nbformat_minor": 2
}
